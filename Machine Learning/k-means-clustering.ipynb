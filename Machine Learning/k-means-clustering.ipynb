{
 "cells": [
  {
   "cell_type": "code",
   "execution_count": 2,
   "id": "e250a481",
   "metadata": {},
   "outputs": [
    {
     "name": "stdout",
     "output_type": "stream",
     "text": [
      "Collecting pandas\n",
      "  Downloading pandas-2.3.1-cp311-cp311-manylinux_2_17_x86_64.manylinux2014_x86_64.whl.metadata (91 kB)\n",
      "Requirement already satisfied: numpy>=1.23.2 in /home/nikola/tesla/lib/python3.11/site-packages (from pandas) (1.26.4)\n",
      "Requirement already satisfied: python-dateutil>=2.8.2 in /home/nikola/tesla/lib/python3.11/site-packages (from pandas) (2.9.0.post0)\n",
      "Collecting pytz>=2020.1 (from pandas)\n",
      "  Using cached pytz-2025.2-py2.py3-none-any.whl.metadata (22 kB)\n",
      "Collecting tzdata>=2022.7 (from pandas)\n",
      "  Using cached tzdata-2025.2-py2.py3-none-any.whl.metadata (1.4 kB)\n",
      "Requirement already satisfied: six>=1.5 in /home/nikola/tesla/lib/python3.11/site-packages (from python-dateutil>=2.8.2->pandas) (1.17.0)\n",
      "Downloading pandas-2.3.1-cp311-cp311-manylinux_2_17_x86_64.manylinux2014_x86_64.whl (12.4 MB)\n",
      "\u001b[2K   \u001b[90m━━━━━━━━━━━━━━━━━━━━━━━━━━━━━━━━━━━━━━━━\u001b[0m \u001b[32m12.4/12.4 MB\u001b[0m \u001b[31m3.8 MB/s\u001b[0m eta \u001b[36m0:00:00\u001b[0ma \u001b[36m0:00:01\u001b[0m\n",
      "\u001b[?25hUsing cached pytz-2025.2-py2.py3-none-any.whl (509 kB)\n",
      "Using cached tzdata-2025.2-py2.py3-none-any.whl (347 kB)\n",
      "Installing collected packages: pytz, tzdata, pandas\n",
      "\u001b[2K   \u001b[90m━━━━━━━━━━━━━━━━━━━━━━━━━━━━━━━━━━━━━━━━\u001b[0m \u001b[32m3/3\u001b[0m [pandas]2m2/3\u001b[0m [pandas]\n",
      "\u001b[1A\u001b[2KSuccessfully installed pandas-2.3.1 pytz-2025.2 tzdata-2025.2\n"
     ]
    }
   ],
   "source": [
    "!pip install pandas"
   ]
  },
  {
   "cell_type": "code",
   "execution_count": 4,
   "id": "cfab2ca3",
   "metadata": {},
   "outputs": [
    {
     "name": "stdout",
     "output_type": "stream",
     "text": [
      "Collecting geopy\n",
      "  Downloading geopy-2.4.1-py3-none-any.whl.metadata (6.8 kB)\n",
      "Collecting geographiclib<3,>=1.52 (from geopy)\n",
      "  Downloading geographiclib-2.0-py3-none-any.whl.metadata (1.4 kB)\n",
      "Downloading geopy-2.4.1-py3-none-any.whl (125 kB)\n",
      "Downloading geographiclib-2.0-py3-none-any.whl (40 kB)\n",
      "Installing collected packages: geographiclib, geopy\n",
      "\u001b[2K   \u001b[90m━━━━━━━━━━━━━━━━━━━━━━━━━━━━━━━━━━━━━━━━\u001b[0m \u001b[32m2/2\u001b[0m [geopy]\n",
      "\u001b[1A\u001b[2KSuccessfully installed geographiclib-2.0 geopy-2.4.1\n"
     ]
    }
   ],
   "source": [
    "!pip install geopy"
   ]
  },
  {
   "cell_type": "code",
   "execution_count": 6,
   "id": "af6fca49",
   "metadata": {},
   "outputs": [
    {
     "name": "stdout",
     "output_type": "stream",
     "text": [
      "Collecting progressbar2\n",
      "  Downloading progressbar2-4.5.0-py3-none-any.whl.metadata (16 kB)\n",
      "Collecting python-utils>=3.8.1 (from progressbar2)\n",
      "  Downloading python_utils-3.9.1-py2.py3-none-any.whl.metadata (9.8 kB)\n",
      "Requirement already satisfied: typing_extensions>3.10.0.2 in /home/nikola/tesla/lib/python3.11/site-packages (from python-utils>=3.8.1->progressbar2) (4.14.1)\n",
      "Downloading progressbar2-4.5.0-py3-none-any.whl (57 kB)\n",
      "Downloading python_utils-3.9.1-py2.py3-none-any.whl (32 kB)\n",
      "Installing collected packages: python-utils, progressbar2\n",
      "\u001b[2K   \u001b[90m━━━━━━━━━━━━━━━━━━━━━━━━━━━━━━━━━━━━━━━━\u001b[0m \u001b[32m2/2\u001b[0m [progressbar2]\n",
      "\u001b[1A\u001b[2KSuccessfully installed progressbar2-4.5.0 python-utils-3.9.1\n"
     ]
    }
   ],
   "source": [
    "!pip install progressbar2"
   ]
  },
  {
   "cell_type": "code",
   "execution_count": 8,
   "id": "882a2eaf",
   "metadata": {},
   "outputs": [
    {
     "name": "stdout",
     "output_type": "stream",
     "text": [
      "Collecting scikit-learn\n",
      "  Downloading scikit_learn-1.7.1-cp311-cp311-manylinux2014_x86_64.manylinux_2_17_x86_64.whl.metadata (11 kB)\n",
      "Requirement already satisfied: numpy>=1.22.0 in /home/nikola/tesla/lib/python3.11/site-packages (from scikit-learn) (1.26.4)\n",
      "Collecting scipy>=1.8.0 (from scikit-learn)\n",
      "  Downloading scipy-1.16.1-cp311-cp311-manylinux2014_x86_64.manylinux_2_17_x86_64.whl.metadata (61 kB)\n",
      "Collecting joblib>=1.2.0 (from scikit-learn)\n",
      "  Using cached joblib-1.5.1-py3-none-any.whl.metadata (5.6 kB)\n",
      "Collecting threadpoolctl>=3.1.0 (from scikit-learn)\n",
      "  Using cached threadpoolctl-3.6.0-py3-none-any.whl.metadata (13 kB)\n",
      "Downloading scikit_learn-1.7.1-cp311-cp311-manylinux2014_x86_64.manylinux_2_17_x86_64.whl (9.7 MB)\n",
      "\u001b[2K   \u001b[90m━━━━━━━━━━━━━━━━━━━━━━━━━━━━━━━━━━━━━━━━\u001b[0m \u001b[32m9.7/9.7 MB\u001b[0m \u001b[31m3.4 MB/s\u001b[0m eta \u001b[36m0:00:00\u001b[0m00:01\u001b[0m00:01\u001b[0m\n",
      "\u001b[?25hUsing cached joblib-1.5.1-py3-none-any.whl (307 kB)\n",
      "Downloading scipy-1.16.1-cp311-cp311-manylinux2014_x86_64.manylinux_2_17_x86_64.whl (35.4 MB)\n",
      "\u001b[2K   \u001b[90m━━━━━━━━━━━━━━━━━━━━━━━━━━━━━━━━━━━━━━━━\u001b[0m \u001b[32m35.4/35.4 MB\u001b[0m \u001b[31m3.4 MB/s\u001b[0m eta \u001b[36m0:00:00\u001b[0m00:01\u001b[0m00:01\u001b[0m\n",
      "\u001b[?25hUsing cached threadpoolctl-3.6.0-py3-none-any.whl (18 kB)\n",
      "Installing collected packages: threadpoolctl, scipy, joblib, scikit-learn\n",
      "\u001b[2K   \u001b[90m━━━━━━━━━━━━━━━━━━━━━━━━━━━━━━━━━━━━━━━━\u001b[0m \u001b[32m4/4\u001b[0m [scikit-learn][0m [scikit-learn]\n",
      "\u001b[1A\u001b[2KSuccessfully installed joblib-1.5.1 scikit-learn-1.7.1 scipy-1.16.1 threadpoolctl-3.6.0\n"
     ]
    }
   ],
   "source": [
    "!pip install scikit-learn"
   ]
  },
  {
   "cell_type": "code",
   "execution_count": 10,
   "id": "bb4f3574",
   "metadata": {},
   "outputs": [
    {
     "name": "stdout",
     "output_type": "stream",
     "text": [
      "Collecting plotly\n",
      "  Downloading plotly-6.2.0-py3-none-any.whl.metadata (8.5 kB)\n",
      "Collecting narwhals>=1.15.1 (from plotly)\n",
      "  Downloading narwhals-2.0.1-py3-none-any.whl.metadata (11 kB)\n",
      "Requirement already satisfied: packaging in /home/nikola/tesla/lib/python3.11/site-packages (from plotly) (25.0)\n",
      "Downloading plotly-6.2.0-py3-none-any.whl (9.6 MB)\n",
      "\u001b[2K   \u001b[90m━━━━━━━━━━━━━━━━━━━━━━━━━━━━━━━━━━━━━━━━\u001b[0m \u001b[32m9.6/9.6 MB\u001b[0m \u001b[31m3.3 MB/s\u001b[0m eta \u001b[36m0:00:00\u001b[0m00:01\u001b[0m00:01\u001b[0m\n",
      "\u001b[?25hDownloading narwhals-2.0.1-py3-none-any.whl (385 kB)\n",
      "Installing collected packages: narwhals, plotly\n",
      "\u001b[2K   \u001b[90m━━━━━━━━━━━━━━━━━━━━━━━━━━━━━━━━━━━━━━━━\u001b[0m \u001b[32m2/2\u001b[0m [plotly]2m1/2\u001b[0m [plotly]\n",
      "\u001b[1A\u001b[2KSuccessfully installed narwhals-2.0.1 plotly-6.2.0\n"
     ]
    }
   ],
   "source": [
    "!pip install plotly"
   ]
  },
  {
   "cell_type": "code",
   "execution_count": 11,
   "id": "47d19f17",
   "metadata": {},
   "outputs": [],
   "source": [
    "import pandas as pd # for data manipulation\n",
    "\n",
    "from geopy.geocoders import Nominatim # for getting city coordinates\n",
    "from progressbar import ProgressBar # for displaying progress \n",
    "import time # for adding time delays\n",
    "\n",
    "from sklearn.cluster import KMeans # for k-means clustering\n",
    "\n",
    "import matplotlib.pyplot as plt # for data visualization\n",
    "import plotly.graph_objects as go # for data visualization"
   ]
  },
  {
   "cell_type": "code",
   "execution_count": 14,
   "id": "1bf2de98",
   "metadata": {},
   "outputs": [
    {
     "data": {
      "text/html": [
       "<div>\n",
       "<style scoped>\n",
       "    .dataframe tbody tr th:only-of-type {\n",
       "        vertical-align: middle;\n",
       "    }\n",
       "\n",
       "    .dataframe tbody tr th {\n",
       "        vertical-align: top;\n",
       "    }\n",
       "\n",
       "    .dataframe thead th {\n",
       "        text-align: right;\n",
       "    }\n",
       "</style>\n",
       "<table border=\"1\" class=\"dataframe\">\n",
       "  <thead>\n",
       "    <tr style=\"text-align: right;\">\n",
       "      <th></th>\n",
       "      <th>Date</th>\n",
       "      <th>Location</th>\n",
       "      <th>MinTemp</th>\n",
       "      <th>MaxTemp</th>\n",
       "      <th>Rainfall</th>\n",
       "      <th>Evaporation</th>\n",
       "      <th>Sunshine</th>\n",
       "      <th>WindGustDir</th>\n",
       "      <th>WindGustSpeed</th>\n",
       "      <th>WindDir9am</th>\n",
       "      <th>WindDir3pm</th>\n",
       "      <th>WindSpeed9am</th>\n",
       "      <th>WindSpeed3pm</th>\n",
       "      <th>Humidity9am</th>\n",
       "      <th>Humidity3pm</th>\n",
       "      <th>Pressure9am</th>\n",
       "      <th>Pressure3pm</th>\n",
       "      <th>Cloud9am</th>\n",
       "      <th>Cloud3pm</th>\n",
       "      <th>Temp9am</th>\n",
       "      <th>Temp3pm</th>\n",
       "      <th>RainToday</th>\n",
       "      <th>RainTomorrow</th>\n",
       "      <th>Location2</th>\n",
       "      <th>RainTodayFlag</th>\n",
       "      <th>RainTomorrowFlag</th>\n",
       "    </tr>\n",
       "  </thead>\n",
       "  <tbody>\n",
       "    <tr>\n",
       "      <th>0</th>\n",
       "      <td>2008-12-01</td>\n",
       "      <td>Albury</td>\n",
       "      <td>13.4</td>\n",
       "      <td>22.9</td>\n",
       "      <td>0.6</td>\n",
       "      <td>5.469824</td>\n",
       "      <td>7.624853</td>\n",
       "      <td>W</td>\n",
       "      <td>44.0</td>\n",
       "      <td>W</td>\n",
       "      <td>WNW</td>\n",
       "      <td>20.0</td>\n",
       "      <td>24.0</td>\n",
       "      <td>71.0</td>\n",
       "      <td>22.0</td>\n",
       "      <td>1007.7</td>\n",
       "      <td>1007.1</td>\n",
       "      <td>8.000000</td>\n",
       "      <td>4.503167</td>\n",
       "      <td>16.9</td>\n",
       "      <td>21.8</td>\n",
       "      <td>No</td>\n",
       "      <td>No</td>\n",
       "      <td>Albury</td>\n",
       "      <td>0</td>\n",
       "      <td>0</td>\n",
       "    </tr>\n",
       "    <tr>\n",
       "      <th>1</th>\n",
       "      <td>2008-12-02</td>\n",
       "      <td>Albury</td>\n",
       "      <td>7.4</td>\n",
       "      <td>25.1</td>\n",
       "      <td>0.0</td>\n",
       "      <td>5.469824</td>\n",
       "      <td>7.624853</td>\n",
       "      <td>WNW</td>\n",
       "      <td>44.0</td>\n",
       "      <td>NNW</td>\n",
       "      <td>WSW</td>\n",
       "      <td>4.0</td>\n",
       "      <td>22.0</td>\n",
       "      <td>44.0</td>\n",
       "      <td>25.0</td>\n",
       "      <td>1010.6</td>\n",
       "      <td>1007.8</td>\n",
       "      <td>4.437189</td>\n",
       "      <td>4.503167</td>\n",
       "      <td>17.2</td>\n",
       "      <td>24.3</td>\n",
       "      <td>No</td>\n",
       "      <td>No</td>\n",
       "      <td>Albury</td>\n",
       "      <td>0</td>\n",
       "      <td>0</td>\n",
       "    </tr>\n",
       "    <tr>\n",
       "      <th>2</th>\n",
       "      <td>2008-12-03</td>\n",
       "      <td>Albury</td>\n",
       "      <td>12.9</td>\n",
       "      <td>25.7</td>\n",
       "      <td>0.0</td>\n",
       "      <td>5.469824</td>\n",
       "      <td>7.624853</td>\n",
       "      <td>WSW</td>\n",
       "      <td>46.0</td>\n",
       "      <td>W</td>\n",
       "      <td>WSW</td>\n",
       "      <td>19.0</td>\n",
       "      <td>26.0</td>\n",
       "      <td>38.0</td>\n",
       "      <td>30.0</td>\n",
       "      <td>1007.6</td>\n",
       "      <td>1008.7</td>\n",
       "      <td>4.437189</td>\n",
       "      <td>2.000000</td>\n",
       "      <td>21.0</td>\n",
       "      <td>23.2</td>\n",
       "      <td>No</td>\n",
       "      <td>No</td>\n",
       "      <td>Albury</td>\n",
       "      <td>0</td>\n",
       "      <td>0</td>\n",
       "    </tr>\n",
       "    <tr>\n",
       "      <th>3</th>\n",
       "      <td>2008-12-04</td>\n",
       "      <td>Albury</td>\n",
       "      <td>9.2</td>\n",
       "      <td>28.0</td>\n",
       "      <td>0.0</td>\n",
       "      <td>5.469824</td>\n",
       "      <td>7.624853</td>\n",
       "      <td>NE</td>\n",
       "      <td>24.0</td>\n",
       "      <td>SE</td>\n",
       "      <td>E</td>\n",
       "      <td>11.0</td>\n",
       "      <td>9.0</td>\n",
       "      <td>45.0</td>\n",
       "      <td>16.0</td>\n",
       "      <td>1017.6</td>\n",
       "      <td>1012.8</td>\n",
       "      <td>4.437189</td>\n",
       "      <td>4.503167</td>\n",
       "      <td>18.1</td>\n",
       "      <td>26.5</td>\n",
       "      <td>No</td>\n",
       "      <td>No</td>\n",
       "      <td>Albury</td>\n",
       "      <td>0</td>\n",
       "      <td>0</td>\n",
       "    </tr>\n",
       "    <tr>\n",
       "      <th>4</th>\n",
       "      <td>2008-12-05</td>\n",
       "      <td>Albury</td>\n",
       "      <td>17.5</td>\n",
       "      <td>32.3</td>\n",
       "      <td>1.0</td>\n",
       "      <td>5.469824</td>\n",
       "      <td>7.624853</td>\n",
       "      <td>W</td>\n",
       "      <td>41.0</td>\n",
       "      <td>ENE</td>\n",
       "      <td>NW</td>\n",
       "      <td>7.0</td>\n",
       "      <td>20.0</td>\n",
       "      <td>82.0</td>\n",
       "      <td>33.0</td>\n",
       "      <td>1010.8</td>\n",
       "      <td>1006.0</td>\n",
       "      <td>7.000000</td>\n",
       "      <td>8.000000</td>\n",
       "      <td>17.8</td>\n",
       "      <td>29.7</td>\n",
       "      <td>No</td>\n",
       "      <td>No</td>\n",
       "      <td>Albury</td>\n",
       "      <td>0</td>\n",
       "      <td>0</td>\n",
       "    </tr>\n",
       "    <tr>\n",
       "      <th>...</th>\n",
       "      <td>...</td>\n",
       "      <td>...</td>\n",
       "      <td>...</td>\n",
       "      <td>...</td>\n",
       "      <td>...</td>\n",
       "      <td>...</td>\n",
       "      <td>...</td>\n",
       "      <td>...</td>\n",
       "      <td>...</td>\n",
       "      <td>...</td>\n",
       "      <td>...</td>\n",
       "      <td>...</td>\n",
       "      <td>...</td>\n",
       "      <td>...</td>\n",
       "      <td>...</td>\n",
       "      <td>...</td>\n",
       "      <td>...</td>\n",
       "      <td>...</td>\n",
       "      <td>...</td>\n",
       "      <td>...</td>\n",
       "      <td>...</td>\n",
       "      <td>...</td>\n",
       "      <td>...</td>\n",
       "      <td>...</td>\n",
       "      <td>...</td>\n",
       "      <td>...</td>\n",
       "    </tr>\n",
       "    <tr>\n",
       "      <th>145454</th>\n",
       "      <td>2017-06-20</td>\n",
       "      <td>Uluru</td>\n",
       "      <td>3.5</td>\n",
       "      <td>21.8</td>\n",
       "      <td>0.0</td>\n",
       "      <td>5.469824</td>\n",
       "      <td>7.624853</td>\n",
       "      <td>E</td>\n",
       "      <td>31.0</td>\n",
       "      <td>ESE</td>\n",
       "      <td>E</td>\n",
       "      <td>15.0</td>\n",
       "      <td>13.0</td>\n",
       "      <td>59.0</td>\n",
       "      <td>27.0</td>\n",
       "      <td>1024.7</td>\n",
       "      <td>1021.2</td>\n",
       "      <td>4.437189</td>\n",
       "      <td>4.503167</td>\n",
       "      <td>9.4</td>\n",
       "      <td>20.9</td>\n",
       "      <td>No</td>\n",
       "      <td>No</td>\n",
       "      <td>Uluru</td>\n",
       "      <td>0</td>\n",
       "      <td>0</td>\n",
       "    </tr>\n",
       "    <tr>\n",
       "      <th>145455</th>\n",
       "      <td>2017-06-21</td>\n",
       "      <td>Uluru</td>\n",
       "      <td>2.8</td>\n",
       "      <td>23.4</td>\n",
       "      <td>0.0</td>\n",
       "      <td>5.469824</td>\n",
       "      <td>7.624853</td>\n",
       "      <td>E</td>\n",
       "      <td>31.0</td>\n",
       "      <td>SE</td>\n",
       "      <td>ENE</td>\n",
       "      <td>13.0</td>\n",
       "      <td>11.0</td>\n",
       "      <td>51.0</td>\n",
       "      <td>24.0</td>\n",
       "      <td>1024.6</td>\n",
       "      <td>1020.3</td>\n",
       "      <td>4.437189</td>\n",
       "      <td>4.503167</td>\n",
       "      <td>10.1</td>\n",
       "      <td>22.4</td>\n",
       "      <td>No</td>\n",
       "      <td>No</td>\n",
       "      <td>Uluru</td>\n",
       "      <td>0</td>\n",
       "      <td>0</td>\n",
       "    </tr>\n",
       "    <tr>\n",
       "      <th>145456</th>\n",
       "      <td>2017-06-22</td>\n",
       "      <td>Uluru</td>\n",
       "      <td>3.6</td>\n",
       "      <td>25.3</td>\n",
       "      <td>0.0</td>\n",
       "      <td>5.469824</td>\n",
       "      <td>7.624853</td>\n",
       "      <td>NNW</td>\n",
       "      <td>22.0</td>\n",
       "      <td>SE</td>\n",
       "      <td>N</td>\n",
       "      <td>13.0</td>\n",
       "      <td>9.0</td>\n",
       "      <td>56.0</td>\n",
       "      <td>21.0</td>\n",
       "      <td>1023.5</td>\n",
       "      <td>1019.1</td>\n",
       "      <td>4.437189</td>\n",
       "      <td>4.503167</td>\n",
       "      <td>10.9</td>\n",
       "      <td>24.5</td>\n",
       "      <td>No</td>\n",
       "      <td>No</td>\n",
       "      <td>Uluru</td>\n",
       "      <td>0</td>\n",
       "      <td>0</td>\n",
       "    </tr>\n",
       "    <tr>\n",
       "      <th>145457</th>\n",
       "      <td>2017-06-23</td>\n",
       "      <td>Uluru</td>\n",
       "      <td>5.4</td>\n",
       "      <td>26.9</td>\n",
       "      <td>0.0</td>\n",
       "      <td>5.469824</td>\n",
       "      <td>7.624853</td>\n",
       "      <td>N</td>\n",
       "      <td>37.0</td>\n",
       "      <td>SE</td>\n",
       "      <td>WNW</td>\n",
       "      <td>9.0</td>\n",
       "      <td>9.0</td>\n",
       "      <td>53.0</td>\n",
       "      <td>24.0</td>\n",
       "      <td>1021.0</td>\n",
       "      <td>1016.8</td>\n",
       "      <td>4.437189</td>\n",
       "      <td>4.503167</td>\n",
       "      <td>12.5</td>\n",
       "      <td>26.1</td>\n",
       "      <td>No</td>\n",
       "      <td>No</td>\n",
       "      <td>Uluru</td>\n",
       "      <td>0</td>\n",
       "      <td>0</td>\n",
       "    </tr>\n",
       "    <tr>\n",
       "      <th>145458</th>\n",
       "      <td>2017-06-24</td>\n",
       "      <td>Uluru</td>\n",
       "      <td>7.8</td>\n",
       "      <td>27.0</td>\n",
       "      <td>0.0</td>\n",
       "      <td>5.469824</td>\n",
       "      <td>7.624853</td>\n",
       "      <td>SE</td>\n",
       "      <td>28.0</td>\n",
       "      <td>SSE</td>\n",
       "      <td>N</td>\n",
       "      <td>13.0</td>\n",
       "      <td>7.0</td>\n",
       "      <td>51.0</td>\n",
       "      <td>24.0</td>\n",
       "      <td>1019.4</td>\n",
       "      <td>1016.5</td>\n",
       "      <td>3.000000</td>\n",
       "      <td>2.000000</td>\n",
       "      <td>15.1</td>\n",
       "      <td>26.0</td>\n",
       "      <td>No</td>\n",
       "      <td>No</td>\n",
       "      <td>Uluru</td>\n",
       "      <td>0</td>\n",
       "      <td>0</td>\n",
       "    </tr>\n",
       "  </tbody>\n",
       "</table>\n",
       "<p>142193 rows × 26 columns</p>\n",
       "</div>"
      ],
      "text/plain": [
       "              Date Location  MinTemp  MaxTemp  Rainfall  Evaporation  \\\n",
       "0       2008-12-01   Albury     13.4     22.9       0.6     5.469824   \n",
       "1       2008-12-02   Albury      7.4     25.1       0.0     5.469824   \n",
       "2       2008-12-03   Albury     12.9     25.7       0.0     5.469824   \n",
       "3       2008-12-04   Albury      9.2     28.0       0.0     5.469824   \n",
       "4       2008-12-05   Albury     17.5     32.3       1.0     5.469824   \n",
       "...            ...      ...      ...      ...       ...          ...   \n",
       "145454  2017-06-20    Uluru      3.5     21.8       0.0     5.469824   \n",
       "145455  2017-06-21    Uluru      2.8     23.4       0.0     5.469824   \n",
       "145456  2017-06-22    Uluru      3.6     25.3       0.0     5.469824   \n",
       "145457  2017-06-23    Uluru      5.4     26.9       0.0     5.469824   \n",
       "145458  2017-06-24    Uluru      7.8     27.0       0.0     5.469824   \n",
       "\n",
       "        Sunshine WindGustDir  WindGustSpeed WindDir9am WindDir3pm  \\\n",
       "0       7.624853           W           44.0          W        WNW   \n",
       "1       7.624853         WNW           44.0        NNW        WSW   \n",
       "2       7.624853         WSW           46.0          W        WSW   \n",
       "3       7.624853          NE           24.0         SE          E   \n",
       "4       7.624853           W           41.0        ENE         NW   \n",
       "...          ...         ...            ...        ...        ...   \n",
       "145454  7.624853           E           31.0        ESE          E   \n",
       "145455  7.624853           E           31.0         SE        ENE   \n",
       "145456  7.624853         NNW           22.0         SE          N   \n",
       "145457  7.624853           N           37.0         SE        WNW   \n",
       "145458  7.624853          SE           28.0        SSE          N   \n",
       "\n",
       "        WindSpeed9am  WindSpeed3pm  Humidity9am  Humidity3pm  Pressure9am  \\\n",
       "0               20.0          24.0         71.0         22.0       1007.7   \n",
       "1                4.0          22.0         44.0         25.0       1010.6   \n",
       "2               19.0          26.0         38.0         30.0       1007.6   \n",
       "3               11.0           9.0         45.0         16.0       1017.6   \n",
       "4                7.0          20.0         82.0         33.0       1010.8   \n",
       "...              ...           ...          ...          ...          ...   \n",
       "145454          15.0          13.0         59.0         27.0       1024.7   \n",
       "145455          13.0          11.0         51.0         24.0       1024.6   \n",
       "145456          13.0           9.0         56.0         21.0       1023.5   \n",
       "145457           9.0           9.0         53.0         24.0       1021.0   \n",
       "145458          13.0           7.0         51.0         24.0       1019.4   \n",
       "\n",
       "        Pressure3pm  Cloud9am  Cloud3pm  Temp9am  Temp3pm RainToday  \\\n",
       "0            1007.1  8.000000  4.503167     16.9     21.8        No   \n",
       "1            1007.8  4.437189  4.503167     17.2     24.3        No   \n",
       "2            1008.7  4.437189  2.000000     21.0     23.2        No   \n",
       "3            1012.8  4.437189  4.503167     18.1     26.5        No   \n",
       "4            1006.0  7.000000  8.000000     17.8     29.7        No   \n",
       "...             ...       ...       ...      ...      ...       ...   \n",
       "145454       1021.2  4.437189  4.503167      9.4     20.9        No   \n",
       "145455       1020.3  4.437189  4.503167     10.1     22.4        No   \n",
       "145456       1019.1  4.437189  4.503167     10.9     24.5        No   \n",
       "145457       1016.8  4.437189  4.503167     12.5     26.1        No   \n",
       "145458       1016.5  3.000000  2.000000     15.1     26.0        No   \n",
       "\n",
       "       RainTomorrow Location2  RainTodayFlag  RainTomorrowFlag  \n",
       "0                No    Albury              0                 0  \n",
       "1                No    Albury              0                 0  \n",
       "2                No    Albury              0                 0  \n",
       "3                No    Albury              0                 0  \n",
       "4                No    Albury              0                 0  \n",
       "...             ...       ...            ...               ...  \n",
       "145454           No     Uluru              0                 0  \n",
       "145455           No     Uluru              0                 0  \n",
       "145456           No     Uluru              0                 0  \n",
       "145457           No     Uluru              0                 0  \n",
       "145458           No     Uluru              0                 0  \n",
       "\n",
       "[142193 rows x 26 columns]"
      ]
     },
     "execution_count": 14,
     "metadata": {},
     "output_type": "execute_result"
    }
   ],
   "source": [
    "# Set Pandas options to display more columns\n",
    "pd.options.display.max_columns=50\n",
    "\n",
    "# Read in the weather data csv\n",
    "df=pd.read_csv('weatherAUS.csv', encoding='utf-8')\n",
    "\n",
    "# Drop records where target RainTomorrow=NaN\n",
    "df=df[pd.isnull(df['RainTomorrow'])==False]\n",
    "\n",
    "# For other columns with missing values, fill them in with column mean\n",
    "df = df.fillna(df.select_dtypes(include='number').mean())\n",
    "\n",
    "# Add spaces between multiple words in location names\n",
    "df['Location2']=df['Location'].str.replace( r\"([A-Z])\", r\" 1\").str.strip()\n",
    "# Update Location for Pearce RAAF so it can be found by geolocator\n",
    "df['Location2']=df['Location2'].apply(lambda x: 'Pearce, Bullsbrook' if x=='Pearce R A A F' else x)\n",
    "\n",
    "# Create a flag for RainToday and RainTomorrow, note RainTomorrowFlag can be used as target variable for classification \n",
    "df['RainTodayFlag']=df['RainToday'].apply(lambda x: 1 if x=='Yes' else 0)\n",
    "df['RainTomorrowFlag']=df['RainTomorrow'].apply(lambda x: 1 if x=='Yes' else 0)\n",
    "\n",
    "# Show a snaphsot of data\n",
    "df"
   ]
  },
  {
   "cell_type": "code",
   "execution_count": 16,
   "id": "4879e5e8",
   "metadata": {},
   "outputs": [
    {
     "name": "stderr",
     "output_type": "stream",
     "text": [
      "  0% (0 of 49) |                         | Elapsed Time: 0:00:00 ETA:  --:--:--\n",
      "  2% (1 of 49) |                         | Elapsed Time: 0:00:02 ETA:   0:01:36\n"
     ]
    },
    {
     "name": "stdout",
     "output_type": "stream",
     "text": [
      "❌ Location not found: BadgerysCreek\n"
     ]
    },
    {
     "name": "stderr",
     "output_type": "stream",
     "text": [
      "  4% (2 of 49) |#                        | Elapsed Time: 0:00:03 ETA:   0:01:15\n",
      "  6% (3 of 49) |#                        | Elapsed Time: 0:00:04 ETA:   0:01:09\n"
     ]
    },
    {
     "name": "stdout",
     "output_type": "stream",
     "text": [
      "❌ Location not found: CoffsHarbour\n"
     ]
    },
    {
     "name": "stderr",
     "output_type": "stream",
     "text": [
      "  8% (4 of 49) |##                       | Elapsed Time: 0:00:05 ETA:   0:01:04\n",
      " 10% (5 of 49) |##                       | Elapsed Time: 0:00:07 ETA:   0:01:01\n",
      " 12% (6 of 49) |###                      | Elapsed Time: 0:00:08 ETA:   0:01:00\n"
     ]
    },
    {
     "name": "stdout",
     "output_type": "stream",
     "text": [
      "❌ Location not found: NorahHead\n"
     ]
    },
    {
     "name": "stderr",
     "output_type": "stream",
     "text": [
      " 14% (7 of 49) |###                      | Elapsed Time: 0:00:09 ETA:   0:00:58\n"
     ]
    },
    {
     "name": "stdout",
     "output_type": "stream",
     "text": [
      "❌ Location not found: NorfolkIsland\n"
     ]
    },
    {
     "name": "stderr",
     "output_type": "stream",
     "text": [
      " 16% (8 of 49) |####                     | Elapsed Time: 0:00:10 ETA:   0:00:55\n",
      " 18% (9 of 49) |####                     | Elapsed Time: 0:00:12 ETA:   0:00:54\n",
      " 20% (10 of 49) |####                    | Elapsed Time: 0:00:13 ETA:   0:00:54\n",
      " 22% (11 of 49) |#####                   | Elapsed Time: 0:00:15 ETA:   0:00:53\n"
     ]
    },
    {
     "name": "stdout",
     "output_type": "stream",
     "text": [
      "❌ Location not found: SydneyAirport\n"
     ]
    },
    {
     "name": "stderr",
     "output_type": "stream",
     "text": [
      " 24% (12 of 49) |#####                   | Elapsed Time: 0:00:16 ETA:   0:00:51\n"
     ]
    },
    {
     "name": "stdout",
     "output_type": "stream",
     "text": [
      "❌ Location not found: WaggaWagga\n"
     ]
    },
    {
     "name": "stderr",
     "output_type": "stream",
     "text": [
      " 26% (13 of 49) |######                  | Elapsed Time: 0:00:17 ETA:   0:00:49\n",
      " 28% (14 of 49) |######                  | Elapsed Time: 0:00:19 ETA:   0:00:47\n",
      " 30% (15 of 49) |#######                 | Elapsed Time: 0:00:20 ETA:   0:00:46\n",
      " 32% (16 of 49) |#######                 | Elapsed Time: 0:00:22 ETA:   0:00:45\n",
      " 34% (17 of 49) |########                | Elapsed Time: 0:00:23 ETA:   0:00:43\n"
     ]
    },
    {
     "name": "stdout",
     "output_type": "stream",
     "text": [
      "❌ Location not found: MountGinini\n"
     ]
    },
    {
     "name": "stderr",
     "output_type": "stream",
     "text": [
      " 36% (18 of 49) |########                | Elapsed Time: 0:00:24 ETA:   0:00:42\n",
      " 38% (19 of 49) |#########               | Elapsed Time: 0:00:25 ETA:   0:00:41\n",
      " 40% (20 of 49) |#########               | Elapsed Time: 0:00:27 ETA:   0:00:39\n",
      " 42% (21 of 49) |##########              | Elapsed Time: 0:00:28 ETA:   0:00:38\n"
     ]
    },
    {
     "name": "stdout",
     "output_type": "stream",
     "text": [
      "❌ Location not found: MelbourneAirport\n"
     ]
    },
    {
     "name": "stderr",
     "output_type": "stream",
     "text": [
      " 44% (22 of 49) |##########              | Elapsed Time: 0:00:30 ETA:   0:00:36\n",
      " 46% (23 of 49) |###########             | Elapsed Time: 0:00:32 ETA:   0:00:37\n",
      " 48% (24 of 49) |###########             | Elapsed Time: 0:00:34 ETA:   0:00:35\n",
      " 51% (25 of 49) |############            | Elapsed Time: 0:00:35 ETA:   0:00:34\n",
      " 53% (26 of 49) |############            | Elapsed Time: 0:00:37 ETA:   0:00:32\n",
      " 55% (27 of 49) |#############           | Elapsed Time: 0:00:38 ETA:   0:00:31\n",
      " 57% (28 of 49) |#############           | Elapsed Time: 0:00:39 ETA:   0:00:29\n",
      " 59% (29 of 49) |##############          | Elapsed Time: 0:00:41 ETA:   0:00:28\n",
      " 61% (30 of 49) |##############          | Elapsed Time: 0:00:42 ETA:   0:00:27\n",
      " 63% (31 of 49) |###############         | Elapsed Time: 0:00:44 ETA:   0:00:25\n",
      " 65% (32 of 49) |###############         | Elapsed Time: 0:00:45 ETA:   0:00:24\n",
      " 67% (33 of 49) |################        | Elapsed Time: 0:00:47 ETA:   0:00:22\n"
     ]
    },
    {
     "name": "stdout",
     "output_type": "stream",
     "text": [
      "❌ Location not found: MountGambier\n"
     ]
    },
    {
     "name": "stderr",
     "output_type": "stream",
     "text": [
      " 69% (34 of 49) |################        | Elapsed Time: 0:00:48 ETA:   0:00:21\n",
      " 71% (35 of 49) |#################       | Elapsed Time: 0:00:49 ETA:   0:00:19\n",
      " 73% (36 of 49) |#################       | Elapsed Time: 0:00:50 ETA:   0:00:18\n",
      " 75% (37 of 49) |##################      | Elapsed Time: 0:00:52 ETA:   0:00:17\n",
      " 77% (38 of 49) |##################      | Elapsed Time: 0:00:54 ETA:   0:00:15\n"
     ]
    },
    {
     "name": "stdout",
     "output_type": "stream",
     "text": [
      "❌ Location not found: PearceRAAF\n"
     ]
    },
    {
     "name": "stderr",
     "output_type": "stream",
     "text": [
      " 79% (39 of 49) |###################     | Elapsed Time: 0:00:55 ETA:   0:00:14\n"
     ]
    },
    {
     "name": "stdout",
     "output_type": "stream",
     "text": [
      "❌ Location not found: PerthAirport\n"
     ]
    },
    {
     "name": "stderr",
     "output_type": "stream",
     "text": [
      " 81% (40 of 49) |###################     | Elapsed Time: 0:00:56 ETA:   0:00:12\n",
      " 83% (41 of 49) |####################    | Elapsed Time: 0:00:57 ETA:   0:00:11\n"
     ]
    },
    {
     "name": "stdout",
     "output_type": "stream",
     "text": [
      "❌ Location not found: SalmonGums\n"
     ]
    },
    {
     "name": "stderr",
     "output_type": "stream",
     "text": [
      " 85% (42 of 49) |####################    | Elapsed Time: 0:00:59 ETA:   0:00:09\n",
      " 87% (43 of 49) |#####################   | Elapsed Time: 0:01:00 ETA:   0:00:08\n",
      " 89% (44 of 49) |#####################   | Elapsed Time: 0:01:01 ETA:   0:00:07\n",
      " 91% (45 of 49) |######################  | Elapsed Time: 0:01:03 ETA:   0:00:05\n"
     ]
    },
    {
     "name": "stdout",
     "output_type": "stream",
     "text": [
      "❌ Location not found: AliceSprings\n"
     ]
    },
    {
     "name": "stderr",
     "output_type": "stream",
     "text": [
      " 93% (46 of 49) |######################  | Elapsed Time: 0:01:04 ETA:   0:00:04\n",
      " 95% (47 of 49) |####################### | Elapsed Time: 0:01:05 ETA:   0:00:02\n",
      " 97% (48 of 49) |####################### | Elapsed Time: 0:01:07 ETA:   0:00:01\n",
      "100% (49 of 49) |########################| Elapsed Time: 0:01:08 Time:  0:01:08\n"
     ]
    },
    {
     "data": {
      "text/html": [
       "<div>\n",
       "<style scoped>\n",
       "    .dataframe tbody tr th:only-of-type {\n",
       "        vertical-align: middle;\n",
       "    }\n",
       "\n",
       "    .dataframe tbody tr th {\n",
       "        vertical-align: top;\n",
       "    }\n",
       "\n",
       "    .dataframe thead th {\n",
       "        text-align: right;\n",
       "    }\n",
       "</style>\n",
       "<table border=\"1\" class=\"dataframe\">\n",
       "  <thead>\n",
       "    <tr style=\"text-align: right;\">\n",
       "      <th></th>\n",
       "      <th>Loc</th>\n",
       "      <th>Latitude</th>\n",
       "      <th>Longitude</th>\n",
       "    </tr>\n",
       "  </thead>\n",
       "  <tbody>\n",
       "    <tr>\n",
       "      <th>0</th>\n",
       "      <td>Albury</td>\n",
       "      <td>-36.073773</td>\n",
       "      <td>146.913526</td>\n",
       "    </tr>\n",
       "    <tr>\n",
       "      <th>1</th>\n",
       "      <td>Cobar</td>\n",
       "      <td>-31.966663</td>\n",
       "      <td>145.304505</td>\n",
       "    </tr>\n",
       "    <tr>\n",
       "      <th>2</th>\n",
       "      <td>Moree</td>\n",
       "      <td>-29.461720</td>\n",
       "      <td>149.840715</td>\n",
       "    </tr>\n",
       "    <tr>\n",
       "      <th>3</th>\n",
       "      <td>Newcastle</td>\n",
       "      <td>-32.919295</td>\n",
       "      <td>151.779535</td>\n",
       "    </tr>\n",
       "    <tr>\n",
       "      <th>4</th>\n",
       "      <td>Penrith</td>\n",
       "      <td>-33.751195</td>\n",
       "      <td>150.694171</td>\n",
       "    </tr>\n",
       "  </tbody>\n",
       "</table>\n",
       "</div>"
      ],
      "text/plain": [
       "         Loc   Latitude   Longitude\n",
       "0     Albury -36.073773  146.913526\n",
       "1      Cobar -31.966663  145.304505\n",
       "2      Moree -29.461720  149.840715\n",
       "3  Newcastle -32.919295  151.779535\n",
       "4    Penrith -33.751195  150.694171"
      ]
     },
     "execution_count": 16,
     "metadata": {},
     "output_type": "execute_result"
    }
   ],
   "source": [
    "# Create a list of unique locations (cities)\n",
    "loc_list = list(df['Location2'].unique())\n",
    "\n",
    "from geopy.geocoders import Nominatim\n",
    "from progressbar import ProgressBar\n",
    "import pandas as pd\n",
    "import time\n",
    "\n",
    "geolocator = Nominatim(user_agent=\"weather-locator\")\n",
    "country = \"Australia\"\n",
    "loc_res = []\n",
    "\n",
    "pbar = ProgressBar()\n",
    "for city in pbar(loc_list):\n",
    "    try:\n",
    "        loc = geolocator.geocode(city + ',' + country)\n",
    "        if loc is not None:\n",
    "            res = [city, loc.latitude, loc.longitude]\n",
    "            loc_res.append(res)\n",
    "        else:\n",
    "            print(f\"❌ Location not found: {city}\")\n",
    "    except Exception as e:\n",
    "        print(f\"⚠️ Error for {city}: {e}\")\n",
    "    time.sleep(1)  # Respect API rate limits\n",
    "\n",
    "# Add locations to a dataframe\n",
    "df_loc = pd.DataFrame(loc_res, columns=['Loc', 'Latitude', 'Longitude'])\n",
    "\n",
    "# Show data\n",
    "df_loc.head()\n"
   ]
  },
  {
   "cell_type": "code",
   "execution_count": 17,
   "id": "fafeff77",
   "metadata": {},
   "outputs": [
    {
     "data": {
      "application/vnd.plotly.v1+json": {
       "config": {
        "plotlyServerURL": "https://plot.ly"
       },
       "data": [
        {
         "hovertext": [
          "Albury",
          "Cobar",
          "Moree",
          "Newcastle",
          "Penrith",
          "Richmond",
          "Sydney",
          "Williamtown",
          "Wollongong",
          "Canberra",
          "Tuggeranong",
          "Ballarat",
          "Bendigo",
          "Sale",
          "Melbourne",
          "Mildura",
          "Nhil",
          "Portland",
          "Watsonia",
          "Dartmoor",
          "Brisbane",
          "Cairns",
          "GoldCoast",
          "Townsville",
          "Adelaide",
          "Nuriootpa",
          "Woomera",
          "Albany",
          "Witchcliffe",
          "Perth",
          "Walpole",
          "Hobart",
          "Launceston",
          "Darwin",
          "Katherine",
          "Uluru"
         ],
         "lat": {
          "bdata": "SSgiaHEJQsCCQpg2d/c/wA/nhkszdj3A6m7od6t1QMDs870rJ+BAwN6Th4Va50LAA5B/C1fvQMC4HoXrUWhAwMQOvotSNkHAa0zjchemQcC2bt6T4rVBwMj/Ln35x0LAY8j7gidhQsCIlRtWAg5DwI/1eTE56ELAKuEJvf4YQcAYjFsWXbdBwP6es2A9LEPAEpkDTgDbQsBOfotOlvJCwJSOzekNeDvAiAxQv7DrMMD4U+OlmxQ8wE2Qx8LGQTPAeSRens52QcBz7bAuEzxBwIkBt5MtMz/A70IpECyDQcCUX1DwXgNBwLXaaKW19D/AsvvpmiR9QcBSN2EM9nBFwBCn3fmPt0TAXYqryr7rKMCSaukb4u0swFJ8fEJ2WDnA",
          "dtype": "f8"
         },
         "lon": {
          "bdata": "8DDtmztdYkCTzhuCviliQObXxSPnumJAAQP38vH4YkCCik+mNtZiQGveJ/2zH2JAIIjiRKrmYkBvGSYJ+PpiQPKwUGua3GJAn8SMlT2jYkAWSzbD8qJiQCjzj76J+2FADBC7pQsJYkC6eIn7GWJiQEdMmlDSHmJAkGOQYM/EYUAM22DyEKlhQPjn/dpVs2FADIESVa4iYkBBFv38kqhhQKad9YTAIGNAXO4nvrU4YkCEdwMWyi1jQGJdJtRdWmJAM3vqojJTYUAxj6EIzl9hQMQ0HUtpGmFA+Z6RCI14XUBugD42bsZcQDfpbLcT91xA4eqlzsguXUDHUW/8f2piQMwD/SplZGJA3zww2+laYED0l8xnb4hgQME24skuYWBA",
          "dtype": "f8"
         },
         "marker": {
          "color": "black"
         },
         "mode": "markers",
         "type": "scattergeo"
        }
       ],
       "layout": {
        "geo": {
         "center": {
          "lat": -23.69839,
          "lon": 133.8813
         },
         "landcolor": "rgb(250, 250, 250)",
         "projection": {
          "scale": 5,
          "type": "miller"
         },
         "scope": "world"
        },
        "height": 600,
        "margin": {
         "b": 0,
         "l": 0,
         "r": 10,
         "t": 30
        },
        "template": {
         "data": {
          "bar": [
           {
            "error_x": {
             "color": "#2a3f5f"
            },
            "error_y": {
             "color": "#2a3f5f"
            },
            "marker": {
             "line": {
              "color": "#E5ECF6",
              "width": 0.5
             },
             "pattern": {
              "fillmode": "overlay",
              "size": 10,
              "solidity": 0.2
             }
            },
            "type": "bar"
           }
          ],
          "barpolar": [
           {
            "marker": {
             "line": {
              "color": "#E5ECF6",
              "width": 0.5
             },
             "pattern": {
              "fillmode": "overlay",
              "size": 10,
              "solidity": 0.2
             }
            },
            "type": "barpolar"
           }
          ],
          "carpet": [
           {
            "aaxis": {
             "endlinecolor": "#2a3f5f",
             "gridcolor": "white",
             "linecolor": "white",
             "minorgridcolor": "white",
             "startlinecolor": "#2a3f5f"
            },
            "baxis": {
             "endlinecolor": "#2a3f5f",
             "gridcolor": "white",
             "linecolor": "white",
             "minorgridcolor": "white",
             "startlinecolor": "#2a3f5f"
            },
            "type": "carpet"
           }
          ],
          "choropleth": [
           {
            "colorbar": {
             "outlinewidth": 0,
             "ticks": ""
            },
            "type": "choropleth"
           }
          ],
          "contour": [
           {
            "colorbar": {
             "outlinewidth": 0,
             "ticks": ""
            },
            "colorscale": [
             [
              0,
              "#0d0887"
             ],
             [
              0.1111111111111111,
              "#46039f"
             ],
             [
              0.2222222222222222,
              "#7201a8"
             ],
             [
              0.3333333333333333,
              "#9c179e"
             ],
             [
              0.4444444444444444,
              "#bd3786"
             ],
             [
              0.5555555555555556,
              "#d8576b"
             ],
             [
              0.6666666666666666,
              "#ed7953"
             ],
             [
              0.7777777777777778,
              "#fb9f3a"
             ],
             [
              0.8888888888888888,
              "#fdca26"
             ],
             [
              1,
              "#f0f921"
             ]
            ],
            "type": "contour"
           }
          ],
          "contourcarpet": [
           {
            "colorbar": {
             "outlinewidth": 0,
             "ticks": ""
            },
            "type": "contourcarpet"
           }
          ],
          "heatmap": [
           {
            "colorbar": {
             "outlinewidth": 0,
             "ticks": ""
            },
            "colorscale": [
             [
              0,
              "#0d0887"
             ],
             [
              0.1111111111111111,
              "#46039f"
             ],
             [
              0.2222222222222222,
              "#7201a8"
             ],
             [
              0.3333333333333333,
              "#9c179e"
             ],
             [
              0.4444444444444444,
              "#bd3786"
             ],
             [
              0.5555555555555556,
              "#d8576b"
             ],
             [
              0.6666666666666666,
              "#ed7953"
             ],
             [
              0.7777777777777778,
              "#fb9f3a"
             ],
             [
              0.8888888888888888,
              "#fdca26"
             ],
             [
              1,
              "#f0f921"
             ]
            ],
            "type": "heatmap"
           }
          ],
          "histogram": [
           {
            "marker": {
             "pattern": {
              "fillmode": "overlay",
              "size": 10,
              "solidity": 0.2
             }
            },
            "type": "histogram"
           }
          ],
          "histogram2d": [
           {
            "colorbar": {
             "outlinewidth": 0,
             "ticks": ""
            },
            "colorscale": [
             [
              0,
              "#0d0887"
             ],
             [
              0.1111111111111111,
              "#46039f"
             ],
             [
              0.2222222222222222,
              "#7201a8"
             ],
             [
              0.3333333333333333,
              "#9c179e"
             ],
             [
              0.4444444444444444,
              "#bd3786"
             ],
             [
              0.5555555555555556,
              "#d8576b"
             ],
             [
              0.6666666666666666,
              "#ed7953"
             ],
             [
              0.7777777777777778,
              "#fb9f3a"
             ],
             [
              0.8888888888888888,
              "#fdca26"
             ],
             [
              1,
              "#f0f921"
             ]
            ],
            "type": "histogram2d"
           }
          ],
          "histogram2dcontour": [
           {
            "colorbar": {
             "outlinewidth": 0,
             "ticks": ""
            },
            "colorscale": [
             [
              0,
              "#0d0887"
             ],
             [
              0.1111111111111111,
              "#46039f"
             ],
             [
              0.2222222222222222,
              "#7201a8"
             ],
             [
              0.3333333333333333,
              "#9c179e"
             ],
             [
              0.4444444444444444,
              "#bd3786"
             ],
             [
              0.5555555555555556,
              "#d8576b"
             ],
             [
              0.6666666666666666,
              "#ed7953"
             ],
             [
              0.7777777777777778,
              "#fb9f3a"
             ],
             [
              0.8888888888888888,
              "#fdca26"
             ],
             [
              1,
              "#f0f921"
             ]
            ],
            "type": "histogram2dcontour"
           }
          ],
          "mesh3d": [
           {
            "colorbar": {
             "outlinewidth": 0,
             "ticks": ""
            },
            "type": "mesh3d"
           }
          ],
          "parcoords": [
           {
            "line": {
             "colorbar": {
              "outlinewidth": 0,
              "ticks": ""
             }
            },
            "type": "parcoords"
           }
          ],
          "pie": [
           {
            "automargin": true,
            "type": "pie"
           }
          ],
          "scatter": [
           {
            "fillpattern": {
             "fillmode": "overlay",
             "size": 10,
             "solidity": 0.2
            },
            "type": "scatter"
           }
          ],
          "scatter3d": [
           {
            "line": {
             "colorbar": {
              "outlinewidth": 0,
              "ticks": ""
             }
            },
            "marker": {
             "colorbar": {
              "outlinewidth": 0,
              "ticks": ""
             }
            },
            "type": "scatter3d"
           }
          ],
          "scattercarpet": [
           {
            "marker": {
             "colorbar": {
              "outlinewidth": 0,
              "ticks": ""
             }
            },
            "type": "scattercarpet"
           }
          ],
          "scattergeo": [
           {
            "marker": {
             "colorbar": {
              "outlinewidth": 0,
              "ticks": ""
             }
            },
            "type": "scattergeo"
           }
          ],
          "scattergl": [
           {
            "marker": {
             "colorbar": {
              "outlinewidth": 0,
              "ticks": ""
             }
            },
            "type": "scattergl"
           }
          ],
          "scattermap": [
           {
            "marker": {
             "colorbar": {
              "outlinewidth": 0,
              "ticks": ""
             }
            },
            "type": "scattermap"
           }
          ],
          "scattermapbox": [
           {
            "marker": {
             "colorbar": {
              "outlinewidth": 0,
              "ticks": ""
             }
            },
            "type": "scattermapbox"
           }
          ],
          "scatterpolar": [
           {
            "marker": {
             "colorbar": {
              "outlinewidth": 0,
              "ticks": ""
             }
            },
            "type": "scatterpolar"
           }
          ],
          "scatterpolargl": [
           {
            "marker": {
             "colorbar": {
              "outlinewidth": 0,
              "ticks": ""
             }
            },
            "type": "scatterpolargl"
           }
          ],
          "scatterternary": [
           {
            "marker": {
             "colorbar": {
              "outlinewidth": 0,
              "ticks": ""
             }
            },
            "type": "scatterternary"
           }
          ],
          "surface": [
           {
            "colorbar": {
             "outlinewidth": 0,
             "ticks": ""
            },
            "colorscale": [
             [
              0,
              "#0d0887"
             ],
             [
              0.1111111111111111,
              "#46039f"
             ],
             [
              0.2222222222222222,
              "#7201a8"
             ],
             [
              0.3333333333333333,
              "#9c179e"
             ],
             [
              0.4444444444444444,
              "#bd3786"
             ],
             [
              0.5555555555555556,
              "#d8576b"
             ],
             [
              0.6666666666666666,
              "#ed7953"
             ],
             [
              0.7777777777777778,
              "#fb9f3a"
             ],
             [
              0.8888888888888888,
              "#fdca26"
             ],
             [
              1,
              "#f0f921"
             ]
            ],
            "type": "surface"
           }
          ],
          "table": [
           {
            "cells": {
             "fill": {
              "color": "#EBF0F8"
             },
             "line": {
              "color": "white"
             }
            },
            "header": {
             "fill": {
              "color": "#C8D4E3"
             },
             "line": {
              "color": "white"
             }
            },
            "type": "table"
           }
          ]
         },
         "layout": {
          "annotationdefaults": {
           "arrowcolor": "#2a3f5f",
           "arrowhead": 0,
           "arrowwidth": 1
          },
          "autotypenumbers": "strict",
          "coloraxis": {
           "colorbar": {
            "outlinewidth": 0,
            "ticks": ""
           }
          },
          "colorscale": {
           "diverging": [
            [
             0,
             "#8e0152"
            ],
            [
             0.1,
             "#c51b7d"
            ],
            [
             0.2,
             "#de77ae"
            ],
            [
             0.3,
             "#f1b6da"
            ],
            [
             0.4,
             "#fde0ef"
            ],
            [
             0.5,
             "#f7f7f7"
            ],
            [
             0.6,
             "#e6f5d0"
            ],
            [
             0.7,
             "#b8e186"
            ],
            [
             0.8,
             "#7fbc41"
            ],
            [
             0.9,
             "#4d9221"
            ],
            [
             1,
             "#276419"
            ]
           ],
           "sequential": [
            [
             0,
             "#0d0887"
            ],
            [
             0.1111111111111111,
             "#46039f"
            ],
            [
             0.2222222222222222,
             "#7201a8"
            ],
            [
             0.3333333333333333,
             "#9c179e"
            ],
            [
             0.4444444444444444,
             "#bd3786"
            ],
            [
             0.5555555555555556,
             "#d8576b"
            ],
            [
             0.6666666666666666,
             "#ed7953"
            ],
            [
             0.7777777777777778,
             "#fb9f3a"
            ],
            [
             0.8888888888888888,
             "#fdca26"
            ],
            [
             1,
             "#f0f921"
            ]
           ],
           "sequentialminus": [
            [
             0,
             "#0d0887"
            ],
            [
             0.1111111111111111,
             "#46039f"
            ],
            [
             0.2222222222222222,
             "#7201a8"
            ],
            [
             0.3333333333333333,
             "#9c179e"
            ],
            [
             0.4444444444444444,
             "#bd3786"
            ],
            [
             0.5555555555555556,
             "#d8576b"
            ],
            [
             0.6666666666666666,
             "#ed7953"
            ],
            [
             0.7777777777777778,
             "#fb9f3a"
            ],
            [
             0.8888888888888888,
             "#fdca26"
            ],
            [
             1,
             "#f0f921"
            ]
           ]
          },
          "colorway": [
           "#636efa",
           "#EF553B",
           "#00cc96",
           "#ab63fa",
           "#FFA15A",
           "#19d3f3",
           "#FF6692",
           "#B6E880",
           "#FF97FF",
           "#FECB52"
          ],
          "font": {
           "color": "#2a3f5f"
          },
          "geo": {
           "bgcolor": "white",
           "lakecolor": "white",
           "landcolor": "#E5ECF6",
           "showlakes": true,
           "showland": true,
           "subunitcolor": "white"
          },
          "hoverlabel": {
           "align": "left"
          },
          "hovermode": "closest",
          "mapbox": {
           "style": "light"
          },
          "paper_bgcolor": "white",
          "plot_bgcolor": "#E5ECF6",
          "polar": {
           "angularaxis": {
            "gridcolor": "white",
            "linecolor": "white",
            "ticks": ""
           },
           "bgcolor": "#E5ECF6",
           "radialaxis": {
            "gridcolor": "white",
            "linecolor": "white",
            "ticks": ""
           }
          },
          "scene": {
           "xaxis": {
            "backgroundcolor": "#E5ECF6",
            "gridcolor": "white",
            "gridwidth": 2,
            "linecolor": "white",
            "showbackground": true,
            "ticks": "",
            "zerolinecolor": "white"
           },
           "yaxis": {
            "backgroundcolor": "#E5ECF6",
            "gridcolor": "white",
            "gridwidth": 2,
            "linecolor": "white",
            "showbackground": true,
            "ticks": "",
            "zerolinecolor": "white"
           },
           "zaxis": {
            "backgroundcolor": "#E5ECF6",
            "gridcolor": "white",
            "gridwidth": 2,
            "linecolor": "white",
            "showbackground": true,
            "ticks": "",
            "zerolinecolor": "white"
           }
          },
          "shapedefaults": {
           "line": {
            "color": "#2a3f5f"
           }
          },
          "ternary": {
           "aaxis": {
            "gridcolor": "white",
            "linecolor": "white",
            "ticks": ""
           },
           "baxis": {
            "gridcolor": "white",
            "linecolor": "white",
            "ticks": ""
           },
           "bgcolor": "#E5ECF6",
           "caxis": {
            "gridcolor": "white",
            "linecolor": "white",
            "ticks": ""
           }
          },
          "title": {
           "x": 0.05
          },
          "xaxis": {
           "automargin": true,
           "gridcolor": "white",
           "linecolor": "white",
           "ticks": "",
           "title": {
            "standoff": 15
           },
           "zerolinecolor": "white",
           "zerolinewidth": 2
          },
          "yaxis": {
           "automargin": true,
           "gridcolor": "white",
           "linecolor": "white",
           "ticks": "",
           "title": {
            "standoff": 15
           },
           "zerolinecolor": "white",
           "zerolinewidth": 2
          }
         }
        },
        "title": {
         "text": "Mapping Australian cities"
        },
        "width": 1000
       }
      }
     },
     "metadata": {},
     "output_type": "display_data"
    }
   ],
   "source": [
    "fig = go.Figure(data=go.Scattergeo(\n",
    "        lat=df_loc['Latitude'],\n",
    "        lon=df_loc['Longitude'],\n",
    "        hovertext=df_loc['Loc'], \n",
    "        mode = 'markers',\n",
    "        marker_color = 'black',\n",
    "        ))\n",
    "\n",
    "fig.update_layout(\n",
    "        title = 'Mapping Australian cities',\n",
    "        width=1000,\n",
    "        height=600,\n",
    "        margin={\"r\":10,\"t\":30,\"l\":0,\"b\":0},\n",
    "        geo = dict(\n",
    "            scope='world',\n",
    "            projection_type='miller',\n",
    "            landcolor = \"rgb(250, 250, 250)\",\n",
    "            center=dict(lat=-23.69839, lon=133.8813), # focus point\n",
    "            projection_scale=5 # zoom in on\n",
    "        ),\n",
    "    )\n",
    "fig.show()\n"
   ]
  },
  {
   "cell_type": "markdown",
   "id": "6b506223",
   "metadata": {},
   "source": [
    "# K-Means clustering"
   ]
  },
  {
   "cell_type": "code",
   "execution_count": 18,
   "id": "3e6bd4e7",
   "metadata": {},
   "outputs": [
    {
     "name": "stderr",
     "output_type": "stream",
     "text": [
      "/tmp/ipykernel_10048/1354762145.py:11: UserWarning:\n",
      "\n",
      "color is redundantly defined by the 'color' keyword argument and the fmt string \"bo-\" (-> color='b'). The keyword argument will take precedence.\n",
      "\n"
     ]
    },
    {
     "data": {
      "image/png": "[encoded data removed]",
      "text/plain": [
       "<Figure size 4800x2400 with 1 Axes>"
      ]
     },
     "metadata": {},
     "output_type": "display_data"
    }
   ],
   "source": [
    "# Identify the number of clusters using Elbow method (WCSS)\n",
    "WCSS = []\n",
    "K=range(1,10)\n",
    "for k in K:\n",
    "    kmod = KMeans(n_clusters=k)\n",
    "    kmod.fit(df_loc[['Latitude', 'Longitude']])\n",
    "    WCSS.append(kmod.inertia_)\n",
    "\n",
    "# Plot elbow graph\n",
    "plt.figure(figsize=(16,8), dpi=300)\n",
    "plt.plot(K, WCSS, 'bo-', color='black')\n",
    "plt.xlabel('k')\n",
    "plt.ylabel('WCSS')\n",
    "plt.title('Identify the number of clusters using Elbow method (WCSS)')\n",
    "plt.show()"
   ]
  },
  {
   "cell_type": "code",
   "execution_count": 19,
   "id": "477abe23",
   "metadata": {},
   "outputs": [
    {
     "name": "stdout",
     "output_type": "stream",
     "text": [
      "*************** 3 Cluster Model ***************\n",
      "Cluster centers:  [[-17.689643   137.34754936]\n",
      " [-35.11466596 146.24304573]\n",
      " [-33.99617333 116.39391738]]\n",
      "Inertia (WCSS):  1277.925435710356\n",
      "No. of iterations:  4\n",
      "\n",
      "*************** 4 Cluster Model ***************\n",
      "Cluster centers:  [[-33.99617333 116.39391738]\n",
      " [-36.74038246 143.39147528]\n",
      " [-32.35094789 151.09071551]\n",
      " [-17.689643   137.34754936]]\n",
      "Inertia (WCSS):  783.3800975597024\n",
      "No. of iterations:  3\n"
     ]
    }
   ],
   "source": [
    "# Select data for clustering model\n",
    "X = df_loc[['Latitude', 'Longitude']]\n",
    "\n",
    "# Set the model and its parameters - 3 clusters\n",
    "model3 = KMeans(n_clusters=3,\n",
    "                init='k-means++', # Smart initialization of centroids, alternative option 'random'\n",
    "                n_init=10, # Number of time the k-means algorithm will be run with different centroid seeds, default=10\n",
    "                max_iter=100, # maximum number of iterations to run default=300\n",
    "               )\n",
    "\n",
    "# Set the model and its parameters - 4 clusters\n",
    "model4 = KMeans(n_clusters=4,\n",
    "                init='k-means++', # Smart initialization of centroids, alternative option 'random'\n",
    "                n_init=10, # Number of time the k-means algorithm will be run with different centroid seeds, default=10\n",
    "                max_iter=100, # maximum number of iterations to run default=300\n",
    "               )\n",
    "\n",
    "# Fit the model (3 and 4 clusters)\n",
    "clust3 = model3.fit(X)\n",
    "clust4 = model4.fit(X)\n",
    "\n",
    "# Print model summary\n",
    "print('*************** 3 Cluster Model ***************')\n",
    "print('Cluster centers: ', clust3.cluster_centers_)\n",
    "print('Inertia (WCSS): ', clust3.inertia_)\n",
    "print('No. of iterations: ', clust3.n_iter_)\n",
    "print()\n",
    "\n",
    "print('*************** 4 Cluster Model ***************')\n",
    "print('Cluster centers: ', clust4.cluster_centers_)\n",
    "print('Inertia (WCSS): ', clust4.inertia_)\n",
    "print('No. of iterations: ', clust4.n_iter_)"
   ]
  },
  {
   "cell_type": "code",
   "execution_count": 20,
   "id": "ffb79689",
   "metadata": {},
   "outputs": [
    {
     "data": {
      "application/vnd.plotly.v1+json": {
       "config": {
        "plotlyServerURL": "https://plot.ly"
       },
       "data": [
        {
         "hovertext": [
          [
           "Albury",
           1
          ],
          [
           "Cobar",
           1
          ],
          [
           "Moree",
           1
          ],
          [
           "Newcastle",
           1
          ],
          [
           "Penrith",
           1
          ],
          [
           "Richmond",
           1
          ],
          [
           "Sydney",
           1
          ],
          [
           "Williamtown",
           1
          ],
          [
           "Wollongong",
           1
          ],
          [
           "Canberra",
           1
          ],
          [
           "Tuggeranong",
           1
          ],
          [
           "Ballarat",
           1
          ],
          [
           "Bendigo",
           1
          ],
          [
           "Sale",
           1
          ],
          [
           "Melbourne",
           1
          ],
          [
           "Mildura",
           1
          ],
          [
           "Nhil",
           1
          ],
          [
           "Portland",
           1
          ],
          [
           "Watsonia",
           1
          ],
          [
           "Dartmoor",
           1
          ],
          [
           "Brisbane",
           1
          ],
          [
           "Cairns",
           0
          ],
          [
           "GoldCoast",
           1
          ],
          [
           "Townsville",
           0
          ],
          [
           "Adelaide",
           1
          ],
          [
           "Nuriootpa",
           1
          ],
          [
           "Woomera",
           1
          ],
          [
           "Albany",
           2
          ],
          [
           "Witchcliffe",
           2
          ],
          [
           "Perth",
           2
          ],
          [
           "Walpole",
           2
          ],
          [
           "Hobart",
           1
          ],
          [
           "Launceston",
           1
          ],
          [
           "Darwin",
           0
          ],
          [
           "Katherine",
           0
          ],
          [
           "Uluru",
           0
          ]
         ],
         "lat": {
          "bdata": "SSgiaHEJQsCCQpg2d/c/wA/nhkszdj3A6m7od6t1QMDs870rJ+BAwN6Th4Va50LAA5B/C1fvQMC4HoXrUWhAwMQOvotSNkHAa0zjchemQcC2bt6T4rVBwMj/Ln35x0LAY8j7gidhQsCIlRtWAg5DwI/1eTE56ELAKuEJvf4YQcAYjFsWXbdBwP6es2A9LEPAEpkDTgDbQsBOfotOlvJCwJSOzekNeDvAiAxQv7DrMMD4U+OlmxQ8wE2Qx8LGQTPAeSRens52QcBz7bAuEzxBwIkBt5MtMz/A70IpECyDQcCUX1DwXgNBwLXaaKW19D/AsvvpmiR9QcBSN2EM9nBFwBCn3fmPt0TAXYqryr7rKMCSaukb4u0swFJ8fEJ2WDnA",
          "dtype": "f8"
         },
         "lon": {
          "bdata": "8DDtmztdYkCTzhuCviliQObXxSPnumJAAQP38vH4YkCCik+mNtZiQGveJ/2zH2JAIIjiRKrmYkBvGSYJ+PpiQPKwUGua3GJAn8SMlT2jYkAWSzbD8qJiQCjzj76J+2FADBC7pQsJYkC6eIn7GWJiQEdMmlDSHmJAkGOQYM/EYUAM22DyEKlhQPjn/dpVs2FADIESVa4iYkBBFv38kqhhQKad9YTAIGNAXO4nvrU4YkCEdwMWyi1jQGJdJtRdWmJAM3vqojJTYUAxj6EIzl9hQMQ0HUtpGmFA+Z6RCI14XUBugD42bsZcQDfpbLcT91xA4eqlzsguXUDHUW/8f2piQMwD/SplZGJA3zww2+laYED0l8xnb4hgQME24skuYWBA",
          "dtype": "f8"
         },
         "marker": {
          "color": {
           "bdata": "AQAAAAEAAAABAAAAAQAAAAEAAAABAAAAAQAAAAEAAAABAAAAAQAAAAEAAAABAAAAAQAAAAEAAAABAAAAAQAAAAEAAAABAAAAAQAAAAEAAAABAAAAAAAAAAEAAAAAAAAAAQAAAAEAAAABAAAAAgAAAAIAAAACAAAAAgAAAAEAAAABAAAAAAAAAAAAAAAAAAAA",
           "dtype": "i4"
          },
          "colorscale": [
           [
            0,
            "blue"
           ],
           [
            0.5,
            "red"
           ],
           [
            1,
            "#34eb34"
           ]
          ]
         },
         "mode": "markers",
         "type": "scattergeo"
        },
        {
         "lat": {
          "bdata": "UuqScYywMcCxicBfrY5BwOQChpuC/0DA",
          "dtype": "f8"
         },
         "lon": {
          "bdata": "RN7VHx8rYUArg9gHx0diQOC8OPE1GV1A",
          "dtype": "f8"
         },
         "marker": {
          "color": [
           "red",
           "blue",
           "#34eb34"
          ],
          "line": {
           "color": "black",
           "width": 1
          },
          "size": 12,
          "symbol": "x"
         },
         "mode": "markers",
         "type": "scattergeo"
        }
       ],
       "layout": {
        "geo": {
         "center": {
          "lat": -23.69839,
          "lon": 133.8813
         },
         "landcolor": "rgb(250, 250, 250)",
         "projection": {
          "scale": 5,
          "type": "miller"
         },
         "scope": "world"
        },
        "height": 600,
        "margin": {
         "b": 0,
         "l": 0,
         "r": 10,
         "t": 30
        },
        "showlegend": false,
        "template": {
         "data": {
          "bar": [
           {
            "error_x": {
             "color": "#2a3f5f"
            },
            "error_y": {
             "color": "#2a3f5f"
            },
            "marker": {
             "line": {
              "color": "#E5ECF6",
              "width": 0.5
             },
             "pattern": {
              "fillmode": "overlay",
              "size": 10,
              "solidity": 0.2
             }
            },
            "type": "bar"
           }
          ],
          "barpolar": [
           {
            "marker": {
             "line": {
              "color": "#E5ECF6",
              "width": 0.5
             },
             "pattern": {
              "fillmode": "overlay",
              "size": 10,
              "solidity": 0.2
             }
            },
            "type": "barpolar"
           }
          ],
          "carpet": [
           {
            "aaxis": {
             "endlinecolor": "#2a3f5f",
             "gridcolor": "white",
             "linecolor": "white",
             "minorgridcolor": "white",
             "startlinecolor": "#2a3f5f"
            },
            "baxis": {
             "endlinecolor": "#2a3f5f",
             "gridcolor": "white",
             "linecolor": "white",
             "minorgridcolor": "white",
             "startlinecolor": "#2a3f5f"
            },
            "type": "carpet"
           }
          ],
          "choropleth": [
           {
            "colorbar": {
             "outlinewidth": 0,
             "ticks": ""
            },
            "type": "choropleth"
           }
          ],
          "contour": [
           {
            "colorbar": {
             "outlinewidth": 0,
             "ticks": ""
            },
            "colorscale": [
             [
              0,
              "#0d0887"
             ],
             [
              0.1111111111111111,
              "#46039f"
             ],
             [
              0.2222222222222222,
              "#7201a8"
             ],
             [
              0.3333333333333333,
              "#9c179e"
             ],
             [
              0.4444444444444444,
              "#bd3786"
             ],
             [
              0.5555555555555556,
              "#d8576b"
             ],
             [
              0.6666666666666666,
              "#ed7953"
             ],
             [
              0.7777777777777778,
              "#fb9f3a"
             ],
             [
              0.8888888888888888,
              "#fdca26"
             ],
             [
              1,
              "#f0f921"
             ]
            ],
            "type": "contour"
           }
          ],
          "contourcarpet": [
           {
            "colorbar": {
             "outlinewidth": 0,
             "ticks": ""
            },
            "type": "contourcarpet"
           }
          ],
          "heatmap": [
           {
            "colorbar": {
             "outlinewidth": 0,
             "ticks": ""
            },
            "colorscale": [
             [
              0,
              "#0d0887"
             ],
             [
              0.1111111111111111,
              "#46039f"
             ],
             [
              0.2222222222222222,
              "#7201a8"
             ],
             [
              0.3333333333333333,
              "#9c179e"
             ],
             [
              0.4444444444444444,
              "#bd3786"
             ],
             [
              0.5555555555555556,
              "#d8576b"
             ],
             [
              0.6666666666666666,
              "#ed7953"
             ],
             [
              0.7777777777777778,
              "#fb9f3a"
             ],
             [
              0.8888888888888888,
              "#fdca26"
             ],
             [
              1,
              "#f0f921"
             ]
            ],
            "type": "heatmap"
           }
          ],
          "histogram": [
           {
            "marker": {
             "pattern": {
              "fillmode": "overlay",
              "size": 10,
              "solidity": 0.2
             }
            },
            "type": "histogram"
           }
          ],
          "histogram2d": [
           {
            "colorbar": {
             "outlinewidth": 0,
             "ticks": ""
            },
            "colorscale": [
             [
              0,
              "#0d0887"
             ],
             [
              0.1111111111111111,
              "#46039f"
             ],
             [
              0.2222222222222222,
              "#7201a8"
             ],
             [
              0.3333333333333333,
              "#9c179e"
             ],
             [
              0.4444444444444444,
              "#bd3786"
             ],
             [
              0.5555555555555556,
              "#d8576b"
             ],
             [
              0.6666666666666666,
              "#ed7953"
             ],
             [
              0.7777777777777778,
              "#fb9f3a"
             ],
             [
              0.8888888888888888,
              "#fdca26"
             ],
             [
              1,
              "#f0f921"
             ]
            ],
            "type": "histogram2d"
           }
          ],
          "histogram2dcontour": [
           {
            "colorbar": {
             "outlinewidth": 0,
             "ticks": ""
            },
            "colorscale": [
             [
              0,
              "#0d0887"
             ],
             [
              0.1111111111111111,
              "#46039f"
             ],
             [
              0.2222222222222222,
              "#7201a8"
             ],
             [
              0.3333333333333333,
              "#9c179e"
             ],
             [
              0.4444444444444444,
              "#bd3786"
             ],
             [
              0.5555555555555556,
              "#d8576b"
             ],
             [
              0.6666666666666666,
              "#ed7953"
             ],
             [
              0.7777777777777778,
              "#fb9f3a"
             ],
             [
              0.8888888888888888,
              "#fdca26"
             ],
             [
              1,
              "#f0f921"
             ]
            ],
            "type": "histogram2dcontour"
           }
          ],
          "mesh3d": [
           {
            "colorbar": {
             "outlinewidth": 0,
             "ticks": ""
            },
            "type": "mesh3d"
           }
          ],
          "parcoords": [
           {
            "line": {
             "colorbar": {
              "outlinewidth": 0,
              "ticks": ""
             }
            },
            "type": "parcoords"
           }
          ],
          "pie": [
           {
            "automargin": true,
            "type": "pie"
           }
          ],
          "scatter": [
           {
            "fillpattern": {
             "fillmode": "overlay",
             "size": 10,
             "solidity": 0.2
            },
            "type": "scatter"
           }
          ],
          "scatter3d": [
           {
            "line": {
             "colorbar": {
              "outlinewidth": 0,
              "ticks": ""
             }
            },
            "marker": {
             "colorbar": {
              "outlinewidth": 0,
              "ticks": ""
             }
            },
            "type": "scatter3d"
           }
          ],
          "scattercarpet": [
           {
            "marker": {
             "colorbar": {
              "outlinewidth": 0,
              "ticks": ""
             }
            },
            "type": "scattercarpet"
           }
          ],
          "scattergeo": [
           {
            "marker": {
             "colorbar": {
              "outlinewidth": 0,
              "ticks": ""
             }
            },
            "type": "scattergeo"
           }
          ],
          "scattergl": [
           {
            "marker": {
             "colorbar": {
              "outlinewidth": 0,
              "ticks": ""
             }
            },
            "type": "scattergl"
           }
          ],
          "scattermap": [
           {
            "marker": {
             "colorbar": {
              "outlinewidth": 0,
              "ticks": ""
             }
            },
            "type": "scattermap"
           }
          ],
          "scattermapbox": [
           {
            "marker": {
             "colorbar": {
              "outlinewidth": 0,
              "ticks": ""
             }
            },
            "type": "scattermapbox"
           }
          ],
          "scatterpolar": [
           {
            "marker": {
             "colorbar": {
              "outlinewidth": 0,
              "ticks": ""
             }
            },
            "type": "scatterpolar"
           }
          ],
          "scatterpolargl": [
           {
            "marker": {
             "colorbar": {
              "outlinewidth": 0,
              "ticks": ""
             }
            },
            "type": "scatterpolargl"
           }
          ],
          "scatterternary": [
           {
            "marker": {
             "colorbar": {
              "outlinewidth": 0,
              "ticks": ""
             }
            },
            "type": "scatterternary"
           }
          ],
          "surface": [
           {
            "colorbar": {
             "outlinewidth": 0,
             "ticks": ""
            },
            "colorscale": [
             [
              0,
              "#0d0887"
             ],
             [
              0.1111111111111111,
              "#46039f"
             ],
             [
              0.2222222222222222,
              "#7201a8"
             ],
             [
              0.3333333333333333,
              "#9c179e"
             ],
             [
              0.4444444444444444,
              "#bd3786"
             ],
             [
              0.5555555555555556,
              "#d8576b"
             ],
             [
              0.6666666666666666,
              "#ed7953"
             ],
             [
              0.7777777777777778,
              "#fb9f3a"
             ],
             [
              0.8888888888888888,
              "#fdca26"
             ],
             [
              1,
              "#f0f921"
             ]
            ],
            "type": "surface"
           }
          ],
          "table": [
           {
            "cells": {
             "fill": {
              "color": "#EBF0F8"
             },
             "line": {
              "color": "white"
             }
            },
            "header": {
             "fill": {
              "color": "#C8D4E3"
             },
             "line": {
              "color": "white"
             }
            },
            "type": "table"
           }
          ]
         },
         "layout": {
          "annotationdefaults": {
           "arrowcolor": "#2a3f5f",
           "arrowhead": 0,
           "arrowwidth": 1
          },
          "autotypenumbers": "strict",
          "coloraxis": {
           "colorbar": {
            "outlinewidth": 0,
            "ticks": ""
           }
          },
          "colorscale": {
           "diverging": [
            [
             0,
             "#8e0152"
            ],
            [
             0.1,
             "#c51b7d"
            ],
            [
             0.2,
             "#de77ae"
            ],
            [
             0.3,
             "#f1b6da"
            ],
            [
             0.4,
             "#fde0ef"
            ],
            [
             0.5,
             "#f7f7f7"
            ],
            [
             0.6,
             "#e6f5d0"
            ],
            [
             0.7,
             "#b8e186"
            ],
            [
             0.8,
             "#7fbc41"
            ],
            [
             0.9,
             "#4d9221"
            ],
            [
             1,
             "#276419"
            ]
           ],
           "sequential": [
            [
             0,
             "#0d0887"
            ],
            [
             0.1111111111111111,
             "#46039f"
            ],
            [
             0.2222222222222222,
             "#7201a8"
            ],
            [
             0.3333333333333333,
             "#9c179e"
            ],
            [
             0.4444444444444444,
             "#bd3786"
            ],
            [
             0.5555555555555556,
             "#d8576b"
            ],
            [
             0.6666666666666666,
             "#ed7953"
            ],
            [
             0.7777777777777778,
             "#fb9f3a"
            ],
            [
             0.8888888888888888,
             "#fdca26"
            ],
            [
             1,
             "#f0f921"
            ]
           ],
           "sequentialminus": [
            [
             0,
             "#0d0887"
            ],
            [
             0.1111111111111111,
             "#46039f"
            ],
            [
             0.2222222222222222,
             "#7201a8"
            ],
            [
             0.3333333333333333,
             "#9c179e"
            ],
            [
             0.4444444444444444,
             "#bd3786"
            ],
            [
             0.5555555555555556,
             "#d8576b"
            ],
            [
             0.6666666666666666,
             "#ed7953"
            ],
            [
             0.7777777777777778,
             "#fb9f3a"
            ],
            [
             0.8888888888888888,
             "#fdca26"
            ],
            [
             1,
             "#f0f921"
            ]
           ]
          },
          "colorway": [
           "#636efa",
           "#EF553B",
           "#00cc96",
           "#ab63fa",
           "#FFA15A",
           "#19d3f3",
           "#FF6692",
           "#B6E880",
           "#FF97FF",
           "#FECB52"
          ],
          "font": {
           "color": "#2a3f5f"
          },
          "geo": {
           "bgcolor": "white",
           "lakecolor": "white",
           "landcolor": "#E5ECF6",
           "showlakes": true,
           "showland": true,
           "subunitcolor": "white"
          },
          "hoverlabel": {
           "align": "left"
          },
          "hovermode": "closest",
          "mapbox": {
           "style": "light"
          },
          "paper_bgcolor": "white",
          "plot_bgcolor": "#E5ECF6",
          "polar": {
           "angularaxis": {
            "gridcolor": "white",
            "linecolor": "white",
            "ticks": ""
           },
           "bgcolor": "#E5ECF6",
           "radialaxis": {
            "gridcolor": "white",
            "linecolor": "white",
            "ticks": ""
           }
          },
          "scene": {
           "xaxis": {
            "backgroundcolor": "#E5ECF6",
            "gridcolor": "white",
            "gridwidth": 2,
            "linecolor": "white",
            "showbackground": true,
            "ticks": "",
            "zerolinecolor": "white"
           },
           "yaxis": {
            "backgroundcolor": "#E5ECF6",
            "gridcolor": "white",
            "gridwidth": 2,
            "linecolor": "white",
            "showbackground": true,
            "ticks": "",
            "zerolinecolor": "white"
           },
           "zaxis": {
            "backgroundcolor": "#E5ECF6",
            "gridcolor": "white",
            "gridwidth": 2,
            "linecolor": "white",
            "showbackground": true,
            "ticks": "",
            "zerolinecolor": "white"
           }
          },
          "shapedefaults": {
           "line": {
            "color": "#2a3f5f"
           }
          },
          "ternary": {
           "aaxis": {
            "gridcolor": "white",
            "linecolor": "white",
            "ticks": ""
           },
           "baxis": {
            "gridcolor": "white",
            "linecolor": "white",
            "ticks": ""
           },
           "bgcolor": "#E5ECF6",
           "caxis": {
            "gridcolor": "white",
            "linecolor": "white",
            "ticks": ""
           }
          },
          "title": {
           "x": 0.05
          },
          "xaxis": {
           "automargin": true,
           "gridcolor": "white",
           "linecolor": "white",
           "ticks": "",
           "title": {
            "standoff": 15
           },
           "zerolinecolor": "white",
           "zerolinewidth": 2
          },
          "yaxis": {
           "automargin": true,
           "gridcolor": "white",
           "linecolor": "white",
           "ticks": "",
           "title": {
            "standoff": 15
           },
           "zerolinecolor": "white",
           "zerolinewidth": 2
          }
         }
        },
        "title": {
         "font": {
          "color": "black"
         },
         "text": "Mapping Australian cities"
        },
        "width": 1000
       }
      }
     },
     "metadata": {},
     "output_type": "display_data"
    }
   ],
   "source": [
    "# Attach cluster labels to the original dataset\n",
    "df_loc['Clust3']=clust3.labels_\n",
    "df_loc['Clust4']=clust4.labels_\n",
    "\n",
    "# Plot cluster on the map\n",
    "fig = go.Figure(data=go.Scattergeo(\n",
    "        lat=df_loc['Latitude'],\n",
    "        lon=df_loc['Longitude'],\n",
    "        hovertext=df_loc[['Loc', 'Clust3']], \n",
    "        mode = 'markers',\n",
    "        marker=dict(colorscale=['blue', 'red', '#34eb34']),\n",
    "        marker_color = df_loc['Clust3'],\n",
    "        ))\n",
    "\n",
    "# Add traces\n",
    "fig.add_trace(go.Scattergeo(lat=model3.cluster_centers_[:,0], lon=model3.cluster_centers_[:,1], \n",
    "                            mode='markers', marker_symbol='x', marker_size=12, \n",
    "                            marker_color=['red', 'blue', '#34eb34'],\n",
    "                            marker_line_color='black',\n",
    "                            marker_line_width=1\n",
    "                           ))\n",
    "\n",
    "fig.update_layout(\n",
    "        title = 'Mapping Australian cities',\n",
    "        title_font_color='black',\n",
    "        showlegend=False,\n",
    "        width=1000,\n",
    "        height=600,\n",
    "        margin={\"r\":10,\"t\":30,\"l\":0,\"b\":0},\n",
    "        geo = dict(\n",
    "            scope='world',\n",
    "            projection_type='miller',\n",
    "            landcolor = \"rgb(250, 250, 250)\",\n",
    "            center=dict(lat=-23.69839, lon=133.8813), # focus point\n",
    "            projection_scale=5 # zoom in on\n",
    "        ),\n",
    "    )\n",
    "\n",
    "fig.show()"
   ]
  }
 ],
 "metadata": {
  "kernelspec": {
   "display_name": "Python (tesla)",
   "language": "python",
   "name": "tesla"
  },
  "language_info": {
   "codemirror_mode": {
    "name": "ipython",
    "version": 3
   },
   "file_extension": ".py",
   "mimetype": "text/x-python",
   "name": "python",
   "nbconvert_exporter": "python",
   "pygments_lexer": "ipython3",
   "version": "3.11.8"
  }
 },
 "nbformat": 4,
 "nbformat_minor": 5
}
