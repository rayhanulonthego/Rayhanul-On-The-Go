{
 "cells": [
  {
   "cell_type": "markdown",
   "id": "65d8d214",
   "metadata": {},
   "source": [
    "# U-Net for Semantic Segmentation and Crowd Counting\n"
   ]
  },
  {
   "cell_type": "code",
   "execution_count": 6,
   "id": "65505bbf",
   "metadata": {},
   "outputs": [],
   "source": [
    "!pip install torchvision opencv-python matplotlib --quiet\n",
    "\n",
    "import os\n",
    "import cv2\n",
    "import torch\n",
    "import random\n",
    "import numpy as np\n",
    "import matplotlib.pyplot as plt\n",
    "from PIL import Image\n",
    "from tqdm import tqdm\n",
    "from scipy.ndimage import gaussian_filter\n",
    "\n",
    "import torch.nn as nn\n",
    "import torchvision.transforms as T\n",
    "from torch.utils.data import Dataset, DataLoader\n",
    "from torchvision.datasets import OxfordIIITPet"
   ]
  },
  {
   "cell_type": "markdown",
   "id": "a5f99d33",
   "metadata": {},
   "source": [
    "# ==============================\n",
    "# PART 1: SEGMENTATION TASK\n",
    "# =============================="
   ]
  },
  {
   "cell_type": "code",
   "execution_count": 7,
   "id": "d1f754aa",
   "metadata": {},
   "outputs": [],
   "source": [
    "class OxfordPetDataset(Dataset):\n",
    "    def __init__(self, root, split='train', transform=None, target_transform=None):\n",
    "        self.dataset = OxfordIIITPet(root=root, split=split, target_types=\"segmentation\", download=True)\n",
    "        self.transform = transform\n",
    "        self.target_transform = target_transform\n",
    "\n",
    "    def __len__(self):\n",
    "        return len(self.dataset)\n",
    "\n",
    "    def __getitem__(self, idx):\n",
    "        image, mask = self.dataset[idx]\n",
    "        mask = np.array(mask)\n",
    "        mask = (mask > 1).astype(np.uint8)\n",
    "\n",
    "        if self.transform:\n",
    "            image = self.transform(image)\n",
    "        if self.target_transform:\n",
    "            mask = self.target_transform(mask)\n",
    "\n",
    "        return image, mask\n",
    "\n",
    "transform = T.Compose([\n",
    "    T.Resize((128, 128)),\n",
    "    T.ToTensor()\n",
    "])\n",
    "\n",
    "target_transform = T.Compose([\n",
    "    lambda x: Image.fromarray(x),\n",
    "    T.Resize((128, 128)),\n",
    "    T.ToTensor()\n",
    "])\n",
    "\n",
    "train_seg_dataset = OxfordPetDataset('./data', split='trainval', transform=transform, target_transform=target_transform)\n",
    "train_seg_loader = DataLoader(train_seg_dataset, batch_size=16, shuffle=True)\n"
   ]
  },
  {
   "cell_type": "markdown",
   "id": "efac46b3",
   "metadata": {},
   "source": [
    "# ==============================\n",
    "# PART 2: CROWD COUNTING TASK\n",
    "# =============================="
   ]
  },
  {
   "cell_type": "code",
   "execution_count": 8,
   "id": "821f5dd6",
   "metadata": {},
   "outputs": [],
   "source": [
    "class SyntheticCrowdDataset(Dataset):\n",
    "    def __init__(self, num_samples=100, image_size=(128, 128), max_people=30):\n",
    "        self.num_samples = num_samples\n",
    "        self.image_size = image_size\n",
    "        self.max_people = max_people\n",
    "\n",
    "    def generate_image_and_density(self):\n",
    "        image = np.zeros(self.image_size, dtype=np.float32)\n",
    "        density_map = np.zeros(self.image_size, dtype=np.float32)\n",
    "        num_people = random.randint(1, self.max_people)\n",
    "\n",
    "        for _ in range(num_people):\n",
    "            x = random.randint(0, self.image_size[0] - 1)\n",
    "            y = random.randint(0, self.image_size[1] - 1)\n",
    "            image[x, y] = 1.0\n",
    "            density_map[x, y] = 1.0\n",
    "\n",
    "        density_map = gaussian_filter(density_map, sigma=3)\n",
    "        return image, density_map\n",
    "\n",
    "    def __len__(self):\n",
    "        return self.num_samples\n",
    "\n",
    "    def __getitem__(self, idx):\n",
    "        image, density = self.generate_image_and_density()\n",
    "        image = np.expand_dims(image, axis=0)\n",
    "        density = np.expand_dims(density, axis=0)\n",
    "        return torch.tensor(image, dtype=torch.float32), torch.tensor(density, dtype=torch.float32)\n",
    "\n",
    "train_crowd_dataset = SyntheticCrowdDataset(num_samples=200)\n",
    "train_crowd_loader = DataLoader(train_crowd_dataset, batch_size=8, shuffle=True)"
   ]
  },
  {
   "cell_type": "markdown",
   "id": "98537aa2",
   "metadata": {},
   "source": [
    "# ==============================\n",
    "# U-Net Model Definition\n",
    "# =============================="
   ]
  },
  {
   "cell_type": "code",
   "execution_count": 9,
   "id": "0e30ed11",
   "metadata": {},
   "outputs": [],
   "source": [
    "class DoubleConv(nn.Module):\n",
    "    def __init__(self, in_c, out_c):\n",
    "        super().__init__()\n",
    "        self.conv = nn.Sequential(\n",
    "            nn.Conv2d(in_c, out_c, 3, padding=1),\n",
    "            nn.ReLU(inplace=True),\n",
    "            nn.Conv2d(out_c, out_c, 3, padding=1),\n",
    "            nn.ReLU(inplace=True)\n",
    "        )\n",
    "\n",
    "    def forward(self, x):\n",
    "        return self.conv(x)\n",
    "\n",
    "class UNet(nn.Module):\n",
    "    def __init__(self, in_channels=1, out_channels=1):\n",
    "        super().__init__()\n",
    "        self.down1 = DoubleConv(in_channels, 64)\n",
    "        self.pool1 = nn.MaxPool2d(2)\n",
    "        self.down2 = DoubleConv(64, 128)\n",
    "        self.pool2 = nn.MaxPool2d(2)\n",
    "\n",
    "        self.bottleneck = DoubleConv(128, 256)\n",
    "\n",
    "        self.up2 = nn.ConvTranspose2d(256, 128, 2, stride=2)\n",
    "        self.conv2 = DoubleConv(256, 128)\n",
    "        self.up1 = nn.ConvTranspose2d(128, 64, 2, stride=2)\n",
    "        self.conv1 = DoubleConv(128, 64)\n",
    "\n",
    "        self.output = nn.Conv2d(64, out_channels, kernel_size=1)\n",
    "\n",
    "    def forward(self, x):\n",
    "        d1 = self.down1(x)\n",
    "        p1 = self.pool1(d1)\n",
    "        d2 = self.down2(p1)\n",
    "        p2 = self.pool2(d2)\n",
    "\n",
    "        b = self.bottleneck(p2)\n",
    "\n",
    "        u2 = self.up2(b)\n",
    "        u2 = torch.cat([u2, d2], dim=1)\n",
    "        c2 = self.conv2(u2)\n",
    "\n",
    "        u1 = self.up1(c2)\n",
    "        u1 = torch.cat([u1, d1], dim=1)\n",
    "        c1 = self.conv1(u1)\n",
    "\n",
    "        return torch.sigmoid(self.output(c1))\n"
   ]
  },
  {
   "cell_type": "markdown",
   "id": "12544ebd",
   "metadata": {},
   "source": [
    "# ==============================\n",
    "# Training Segmentation Model\n",
    "# =============================="
   ]
  },
  {
   "cell_type": "code",
   "execution_count": 10,
   "id": "92acf7a4",
   "metadata": {},
   "outputs": [
    {
     "name": "stderr",
     "output_type": "stream",
     "text": [
      "100%|██████████| 230/230 [00:43<00:00,  5.25it/s]\n"
     ]
    },
    {
     "name": "stdout",
     "output_type": "stream",
     "text": [
      "[Segmentation] Epoch 1, Loss: 64.0224\n"
     ]
    },
    {
     "name": "stderr",
     "output_type": "stream",
     "text": [
      "100%|██████████| 230/230 [00:41<00:00,  5.56it/s]\n"
     ]
    },
    {
     "name": "stdout",
     "output_type": "stream",
     "text": [
      "[Segmentation] Epoch 2, Loss: 63.1758\n"
     ]
    },
    {
     "name": "stderr",
     "output_type": "stream",
     "text": [
      "100%|██████████| 230/230 [00:43<00:00,  5.31it/s]\n"
     ]
    },
    {
     "name": "stdout",
     "output_type": "stream",
     "text": [
      "[Segmentation] Epoch 3, Loss: 63.1758\n"
     ]
    },
    {
     "name": "stderr",
     "output_type": "stream",
     "text": [
      "100%|██████████| 230/230 [00:41<00:00,  5.49it/s]\n"
     ]
    },
    {
     "name": "stdout",
     "output_type": "stream",
     "text": [
      "[Segmentation] Epoch 4, Loss: 63.1758\n"
     ]
    },
    {
     "name": "stderr",
     "output_type": "stream",
     "text": [
      "100%|██████████| 230/230 [00:42<00:00,  5.44it/s]"
     ]
    },
    {
     "name": "stdout",
     "output_type": "stream",
     "text": [
      "[Segmentation] Epoch 5, Loss: 63.1758\n"
     ]
    },
    {
     "name": "stderr",
     "output_type": "stream",
     "text": [
      "\n"
     ]
    }
   ],
   "source": [
    "device = torch.device(\"cuda\" if torch.cuda.is_available() else \"cpu\")\n",
    "model_seg = UNet(in_channels=3, out_channels=1).to(device)\n",
    "optimizer = torch.optim.Adam(model_seg.parameters(), lr=1e-3)\n",
    "criterion = nn.BCELoss()\n",
    "\n",
    "for epoch in range(5):\n",
    "    model_seg.train()\n",
    "    total_loss = 0\n",
    "    for images, masks in tqdm(train_seg_loader):\n",
    "        images, masks = images.to(device), masks.to(device)\n",
    "        outputs = model_seg(images)\n",
    "        loss = criterion(outputs, masks)\n",
    "        optimizer.zero_grad()\n",
    "        loss.backward()\n",
    "        optimizer.step()\n",
    "        total_loss += loss.item()\n",
    "    print(f\"[Segmentation] Epoch {epoch+1}, Loss: {total_loss:.4f}\")\n"
   ]
  },
  {
   "cell_type": "markdown",
   "id": "1be3752b",
   "metadata": {},
   "source": [
    "# ==============================\n",
    "# Training Crowd Counting Model\n",
    "# =============================="
   ]
  },
  {
   "cell_type": "code",
   "execution_count": 11,
   "id": "0eadf3fa",
   "metadata": {},
   "outputs": [
    {
     "name": "stdout",
     "output_type": "stream",
     "text": [
      "[Counting] Epoch 1, Loss: 0.9414\n",
      "[Counting] Epoch 2, Loss: 0.0003\n",
      "[Counting] Epoch 3, Loss: 0.0003\n",
      "[Counting] Epoch 4, Loss: 0.0002\n",
      "[Counting] Epoch 5, Loss: 0.0002\n",
      "[Counting] Epoch 6, Loss: 0.0002\n",
      "[Counting] Epoch 7, Loss: 0.0002\n",
      "[Counting] Epoch 8, Loss: 0.0003\n",
      "[Counting] Epoch 9, Loss: 0.0003\n",
      "[Counting] Epoch 10, Loss: 0.0003\n"
     ]
    }
   ],
   "source": [
    "model_count = UNet(in_channels=1, out_channels=1).to(device)\n",
    "optimizer = torch.optim.Adam(model_count.parameters(), lr=1e-3)\n",
    "criterion = nn.MSELoss()\n",
    "\n",
    "for epoch in range(10):\n",
    "    model_count.train()\n",
    "    total_loss = 0\n",
    "    for images, densities in train_crowd_loader:\n",
    "        images, densities = images.to(device), densities.to(device)\n",
    "        outputs = model_count(images)\n",
    "        loss = criterion(outputs, densities)\n",
    "        optimizer.zero_grad()\n",
    "        loss.backward()\n",
    "        optimizer.step()\n",
    "        total_loss += loss.item()\n",
    "    print(f\"[Counting] Epoch {epoch+1}, Loss: {total_loss:.4f}\")\n"
   ]
  },
  {
   "cell_type": "markdown",
   "id": "2270d205",
   "metadata": {},
   "source": [
    "# ==============================\n",
    "# Evaluation & Visualization\n",
    "# =============================="
   ]
  },
  {
   "cell_type": "code",
   "execution_count": 12,
   "id": "1e7470ea",
   "metadata": {},
   "outputs": [
    {
     "name": "stdout",
     "output_type": "stream",
     "text": [
      "GT Count: 14.00, Predicted Count: 0.00\n"
     ]
    },
    {
     "data": {
      "image/png": "[encoded data removed]",
      "text/plain": [
       "<Figure size 1200x400 with 3 Axes>"
      ]
     },
     "metadata": {},
     "output_type": "display_data"
    }
   ],
   "source": [
    "model_count.eval()\n",
    "with torch.no_grad():\n",
    "    img, gt_density = train_crowd_dataset[0]\n",
    "    img = img.unsqueeze(0).to(device)\n",
    "    pred = model_count(img).squeeze().cpu().numpy()\n",
    "    gt = gt_density.squeeze().numpy()\n",
    "\n",
    "    print(f\"GT Count: {gt.sum():.2f}, Predicted Count: {pred.sum():.2f}\")\n",
    "\n",
    "    plt.figure(figsize=(12, 4))\n",
    "    plt.subplot(1, 3, 1)\n",
    "    plt.imshow(img.squeeze().cpu(), cmap='gray')\n",
    "    plt.title(\"Input\")\n",
    "    plt.subplot(1, 3, 2)\n",
    "    plt.imshow(gt, cmap='jet')\n",
    "    plt.title(\"GT Density\")\n",
    "    plt.subplot(1, 3, 3)\n",
    "    plt.imshow(pred, cmap='jet')\n",
    "    plt.title(\"Predicted Density\")\n",
    "    plt.show()\n"
   ]
  }
 ],
 "metadata": {
  "kernelspec": {
   "display_name": "Python 3",
   "language": "python",
   "name": "python3"
  },
  "language_info": {
   "codemirror_mode": {
    "name": "ipython",
    "version": 3
   },
   "file_extension": ".py",
   "mimetype": "text/x-python",
   "name": "python",
   "nbconvert_exporter": "python",
   "pygments_lexer": "ipython3",
   "version": "3.11.8"
  }
 },
 "nbformat": 4,
 "nbformat_minor": 5
}
